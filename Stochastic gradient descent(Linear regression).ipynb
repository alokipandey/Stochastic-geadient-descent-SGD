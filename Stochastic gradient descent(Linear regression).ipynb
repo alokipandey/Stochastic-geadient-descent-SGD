{
 "cells": [
  {
   "cell_type": "code",
   "execution_count": 2,
   "metadata": {
    "colab": {},
    "colab_type": "code",
    "id": "REYPoTJ1Af7u"
   },
   "outputs": [
    {
     "name": "stderr",
     "output_type": "stream",
     "text": [
      "C:\\Users\\LOKI\\Anaconda3\\lib\\site-packages\\sklearn\\cross_validation.py:41: DeprecationWarning: This module was deprecated in version 0.18 in favor of the model_selection module into which all the refactored classes and functions are moved. Also note that the interface of the new CV iterators are different from that of this module. This module will be removed in 0.20.\n",
      "  \"This module will be removed in 0.20.\", DeprecationWarning)\n"
     ]
    }
   ],
   "source": [
    "import warnings\n",
    "warnings.filterwarnings(\"ignore\")\n",
    "from sklearn.datasets import load_boston\n",
    "from random import seed\n",
    "from random import randrange\n",
    "from csv import reader\n",
    "from math import sqrt\n",
    "from sklearn import preprocessing\n",
    "import pandas as pd\n",
    "import numpy as np\n",
    "import matplotlib.pyplot as plt\n",
    "from prettytable import PrettyTable\n",
    "from sklearn.linear_model import SGDRegressor\n",
    "from sklearn import preprocessing\n",
    "from sklearn.metrics import mean_squared_error as MSE\n",
    "from sklearn.cross_validation import train_test_split\n",
    "#Ref: https://github.com/llSourcell/linear_regression_live/blob/master/demo.py\n"
   ]
  },
  {
   "cell_type": "code",
   "execution_count": 3,
   "metadata": {},
   "outputs": [],
   "source": [
    "def TrainBatch(df_,k_):\n",
    "    sample_=df_.sample(k_)\n",
    "    #xtr_=np.asmatrix(sample_.drop('PRICE', axis = 1))\n",
    "    #ytr_=np.asmatrix(sample_['PRICE'])\n",
    "    return np.asmatrix(sample_.drop('PRICE', axis = 1)),np.asmatrix(sample_['PRICE']) #xtr_,ytr_;\n",
    "\n",
    "def TotalLoss(xtr_, ytr_, w_, b_, k_):\n",
    "    loss=0;\n",
    "    #print(type(xtr_))\n",
    "    for i in range(k_):\n",
    "        loss+= (np.asscalar(ytr_[:,i] - np.matmul(xtr[i],w_)-b_))**2\n",
    "        print('dloss',loss)\n",
    "    return loss/k_; \n",
    "\n",
    "\n",
    "def MSGDReg(xtr_df_,prev_loss,r_,itern_,k_,w_=np.asmatrix(np.random.normal(0,0.1,(13,1))),b_=1):#np.random.randn()):\n",
    "    if(0<itern_):\n",
    "        #print(b_)\n",
    "        #print('\\n\\t\\tITERN',itern_)\n",
    "        derv_w,derv_b=np.empty_like(w_),0;\n",
    "        #print(derv_w.shape)\n",
    "        xtr_,ytr_=TrainBatch(xtr_df_,k_)\n",
    "        #print(ytr_[:,10].shape)\n",
    "        for i in range(k_):\n",
    "            #print('\\n',ytr_[:,i],'\\t', np.matmul(xtr_[i],w_)+b_,'\\t', '\\t', ytr_[:,i]-np.matmul(xtr_[i],w_)-b_)\n",
    "            derv_w+= (np.matmul(xtr_[i].T, ytr_[:,i] - np.matmul(xtr_[i],w_)-b_))\n",
    "            derv_b+=(ytr_[:,i]-np.matmul(xtr_[i],w_)-b_)\n",
    "            #print(derv_w.shape)    \n",
    "        W_ =(w_)-(r_*(-2/k_)*derv_w)\n",
    "        B_ =(b_)-(r_*(-2/k_)*derv_b)\n",
    "        #print('\\nb_&B_','\\t',B_)\n",
    "        if(W_==w_).all():\n",
    "            print('Break:\\titern_',itern_)\n",
    "            print('LearningRate: r_',r_)\n",
    "            return W_,B_\n",
    "        #loss=TotalLoss(xtr_,ytr_,W_.T,B_,k_)\n",
    "        #print('Current Loss:',loss)\n",
    "        #print('Percentage change in loss',abs((prev_loss - loss)/prev_loss)*100)\n",
    "        #if((abs(prev_loss - loss)/prev_loss)*100 <= 0.001):\n",
    "        #    print('Break:\\titern_',itern_)\n",
    "        #   print('Minimized loss:',loss)\n",
    "        #    return W_,B_;\n",
    "        #else:\n",
    "        return MSGDReg(xtr_df_,prev_loss,(r_+10**-2)/2,itern_-1,k_,W_,B_);\n",
    "    else:\n",
    "        print('LearningRate: r_',r_)\n",
    "        print('itern_:',itern_)\n",
    "        return w_,b_;\n"
   ]
  },
  {
   "cell_type": "code",
   "execution_count": 47,
   "metadata": {
    "scrolled": false
   },
   "outputs": [
    {
     "name": "stdout",
     "output_type": "stream",
     "text": [
      "Train, Test data shape (339, 13) (167, 13)\n",
      "LearningRate: r_ 0.010000000000000002\n",
      "itern_: 0\n"
     ]
    },
    {
     "data": {
      "image/png": "[encoded data removed]",
      "text/plain": [
       "<Figure size 432x288 with 1 Axes>"
      ]
     },
     "metadata": {},
     "output_type": "display_data"
    },
    {
     "name": "stdout",
     "output_type": "stream",
     "text": [
      "\n",
      "Mean squared error:Manual SGD 26.204917463853754\n",
      "Train, Test data shape (354, 13) (152, 13)\n"
     ]
    },
    {
     "data": {
      "image/png": "[encoded data removed]",
      "text/plain": [
       "<Figure size 432x288 with 1 Axes>"
      ]
     },
     "metadata": {},
     "output_type": "display_data"
    },
    {
     "name": "stdout",
     "output_type": "stream",
     "text": [
      "\n",
      "Mean squared error SKlearn 25.980580728106816\n"
     ]
    }
   ],
   "source": [
    "x = load_boston().data\n",
    "y = load_boston().target\n",
    "xtr, xte, ytr, yte = train_test_split(x,y, test_size=0.33, random_state=7)\n",
    "print('Train, Test data shape',xtr.shape, xte.shape,)\n",
    "\n",
    "scaler = preprocessing.StandardScaler().fit(xtr)\n",
    "xtr = scaler.transform(xtr)\n",
    "scaler = preprocessing.StandardScaler().fit(xte)\n",
    "xte = scaler.transform(xte)\n",
    "xtr_df=pd.DataFrame(xtr)\n",
    "xtr_df['PRICE']= ytr;\n",
    "xte1=np.asmatrix(xte)\n",
    "w_star,b_star= MSGDReg(xtr_df_=xtr_df, prev_loss=1, itern_=1001, k_=100,  r_=1)\n",
    "ypre=[]\n",
    "for i in range(len(xte)):\n",
    "    ypre.append(np.asscalar(np.matmul(xte1[i],w_star)+b_star))\n",
    "ypre2=[]\n",
    "for i in range(len(xtr)):\n",
    "    ypre2.append(np.asscalar(np.matmul(xtr[i],w_star)+b_star))\n",
    "#print('\\n\\n',w_star,'\\n\\n',b_star)\n",
    "plt.scatter(yte,ypre)\n",
    "plt.grid()\n",
    "plt.xlabel('Original price')\n",
    "plt.ylabel('Predicted price')\n",
    "plt.title('Original vs Predicted price Manual SGD')\n",
    "plt.show()\n",
    "print('\\nMean squared error:Manual SGD',MSE(yte,ypre))\n",
    "\n",
    "\n",
    "#SKlearn SGD Regressor\n",
    "xsk = load_boston().data\n",
    "ysk = load_boston().target\n",
    "xtrsk, xtesk, ytrsk, ytesk = train_test_split(xsk,ysk, test_size=0.3, random_state=22)\n",
    "print('Train, Test data shape',xtrsk.shape, xtesk.shape,)\n",
    "scaler = preprocessing.StandardScaler().fit(xtrsk)\n",
    "xtrsk = scaler.transform(xtrsk)\n",
    "scaler = preprocessing.StandardScaler().fit(xtesk)\n",
    "xtesk = scaler.transform(xtesk)\n",
    "\n",
    "clf = SGDRegressor()\n",
    "clf.fit(xtrsk,ytrsk)\n",
    "ypresk=clf.predict(xtesk)\n",
    "\n",
    "plt.scatter(ytesk,ypresk)\n",
    "plt.grid()\n",
    "plt.xlabel('Original price')\n",
    "plt.ylabel('Predicted price')\n",
    "plt.title('Original vs Predicted price:SKlearn')\n",
    "plt.show()\n",
    "print('\\nMean squared error SKlearn',MSE(ytesk,ypresk))"
   ]
  },
  {
   "cell_type": "code",
   "execution_count": 5,
   "metadata": {},
   "outputs": [
    {
     "name": "stdout",
     "output_type": "stream",
     "text": [
      "+-----------------------+--------------------------+\n",
      "| Weights of Manual SGD | Weights of Sklearn's SGD |\n",
      "+-----------------------+--------------------------+\n",
      "|    [[-0.87814172]]    |    -0.414221985749883    |\n",
      "|     [[0.61961531]]    |   0.26938217207260273    |\n",
      "|     [[-0.097493]]     |   -0.5368789991059597    |\n",
      "|     [[0.69606466]]    |    1.0041556303713557    |\n",
      "|    [[-1.95888132]]    |   -0.6243906130874489    |\n",
      "|     [[3.85742508]]    |    2.9659254701629663    |\n",
      "|    [[-0.55850086]]    |   -0.1308090167719032    |\n",
      "|    [[-3.12416364]]    |   -1.7392168539582518    |\n",
      "|     [[2.11596916]]    |    0.6530847312271582    |\n",
      "|    [[-1.56332043]]    |   -0.08376598601018218   |\n",
      "|    [[-2.13330184]]    |    -1.492972713634007    |\n",
      "|     [[0.88439338]]    |    1.0850018258706666    |\n",
      "|     [[-2.7618481]]    |    -3.659450964117478    |\n",
      "+-----------------------+--------------------------+\n"
     ]
    }
   ],
   "source": [
    "#Weight comparison of Manual SGD & SKlearn SGD\n",
    "from prettytable import PrettyTable\n",
    "weights = PrettyTable()\n",
    "weights.add_column(\"Weights of Manual SGD\",w_star)\n",
    "weights.add_column(\"Weights of Sklearn's SGD\",clf.coef_)\n",
    "\n",
    "print(weights)"
   ]
  },
  {
   "cell_type": "code",
   "execution_count": 50,
   "metadata": {},
   "outputs": [
    {
     "name": "stdout",
     "output_type": "stream",
     "text": [
      "+------------------------+-------------------------+\n",
      "|         Model          | Misclassification error |\n",
      "+------------------------+-------------------------+\n",
      "| Manual SGD(train_data) |    21.31571776718624    |\n",
      "|  SKlearn(train_data)   |    23.22862174127101    |\n",
      "| Manual SGD(test_data)  |    26.204917463853754   |\n",
      "| SKlearn SGD(test_data) |    25.980580728106816   |\n",
      "+------------------------+-------------------------+\n"
     ]
    }
   ],
   "source": [
    "#table = PrettyTable()\n",
    "table = PrettyTable(['Model', 'Misclassification error'])\n",
    "table.add_row(['Manual SGD(train_data)',MSE(ytr,ypre2)])\n",
    "table.add_row(['SKlearn(train_data)',MSE(ytrsk,clf.predict(xtrsk))])\n",
    "table.add_row(['Manual SGD(test_data)',MSE(yte,ypre)])\n",
    "table.add_row(['SKlearn SGD(test_data)',MSE(ytesk,ypresk)])\n",
    "print(table)"
   ]
  },
  {
   "cell_type": "code",
   "execution_count": null,
   "metadata": {},
   "outputs": [],
   "source": []
  },
  {
   "cell_type": "code",
   "execution_count": null,
   "metadata": {},
   "outputs": [],
   "source": []
  }
 ],
 "metadata": {
  "colab": {
   "name": "Untitled3.ipynb",
   "provenance": [],
   "version": "0.3.2"
  },
  "kernelspec": {
   "display_name": "Python 3",
   "language": "python",
   "name": "python3"
  },
  "language_info": {
   "codemirror_mode": {
    "name": "ipython",
    "version": 3
   },
   "file_extension": ".py",
   "mimetype": "text/x-python",
   "name": "python",
   "nbconvert_exporter": "python",
   "pygments_lexer": "ipython3",
   "version": "3.6.5"
  }
 },
 "nbformat": 4,
 "nbformat_minor": 1
}
